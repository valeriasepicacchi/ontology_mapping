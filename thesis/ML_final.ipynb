{
 "cells": [
  {
   "cell_type": "markdown",
   "id": "b039d7c6",
   "metadata": {},
   "source": [
    "# Machine learning on semantic type and category information for identifying drug-disease indications"
   ]
  },
  {
   "cell_type": "markdown",
   "id": "765be385",
   "metadata": {},
   "source": [
    "## Introduction"
   ]
  },
  {
   "cell_type": "markdown",
   "id": "52675393",
   "metadata": {},
   "source": [
    "This document describes the experiments we performed on the RepoDB dataset. We created a feature set by extracting the direct and indirect paths between the drugs and the diseases from the Euretos Knowledge Platform. This is a generic knowledge graph, which contains information from almost 200 data sources. The features are created by counting the frequency of specific semantic types and semantic groups in the intermediate concepts of the drugs and diseases, as well as a binary feature which indicates whether there is a direct relationship between the drug and the disease.\n",
    "\n",
    "Based on this feature set, we try to recreate the “Approved” and “Terminated” classes of the RepoDB reference set (referred to in this document as “VALID” and “INVALID” or “positive” and “negative” respectively). Furthermore, we predict which drugs will be therapeutic for PKD. The experiments we performed for this investigation are described below."
   ]
  },
  {
   "cell_type": "markdown",
   "id": "bfd4d6c4",
   "metadata": {},
   "source": [
    "## Methods and Results"
   ]
  },
  {
   "cell_type": "markdown",
   "id": "7b885933",
   "metadata": {},
   "source": [
    "This section describes the experiments and analyses we performed to substantiate our conclusions. Furthermore, we perform a number of control experiments to ensure we do not fall into pitfalls described in the literature. All code described below is R-code. The R-version and the versions of the packages are described at the end of the document."
   ]
  },
  {
   "cell_type": "code",
   "execution_count": null,
   "id": "8711efbf",
   "metadata": {},
   "outputs": [],
   "source": [
    "# Machine learning and data handling\n",
    "import pandas as pd\n",
    "import numpy as np\n",
    "from sklearn.ensemble import RandomForestClassifier\n",
    "from sklearn.model_selection import train_test_split, GridSearchCV\n",
    "from sklearn.metrics import roc_auc_score, roc_curve, precision_recall_curve, average_precision_score\n",
    "\n",
    "# Visualization\n",
    "import matplotlib.pyplot as plt\n",
    "import seaborn as sns\n",
    "\n",
    "# Parallel processing (20 cores)\n",
    "import joblib\n",
    "from joblib import Parallel, delayed\n",
    "\n",
    "# Set seaborn style\n",
    "sns.set()\n",
    "\n",
    "# Set number of parallel jobs for joblib-based parallelization (used in scikit-learn)\n",
    "n_jobs = 20"
   ]
  },
  {
   "cell_type": "code",
   "execution_count": null,
   "id": "640583c5",
   "metadata": {},
   "outputs": [],
   "source": []
  }
 ],
 "metadata": {
  "kernelspec": {
   "display_name": "venv",
   "language": "python",
   "name": "python3"
  },
  "language_info": {
   "codemirror_mode": {
    "name": "ipython",
    "version": 3
   },
   "file_extension": ".py",
   "mimetype": "text/x-python",
   "name": "python",
   "nbconvert_exporter": "python",
   "pygments_lexer": "ipython3",
   "version": "3.9.6"
  }
 },
 "nbformat": 4,
 "nbformat_minor": 5
}
